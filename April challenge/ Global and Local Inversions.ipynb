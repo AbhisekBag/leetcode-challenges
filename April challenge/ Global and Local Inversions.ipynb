{
 "cells": [
  {
   "cell_type": "code",
   "execution_count": 15,
   "metadata": {},
   "outputs": [
    {
     "name": "stdout",
     "output_type": "stream",
     "text": [
      "same no of local and global inversions\n",
      "[(1, 0)] [0]\n"
     ]
    }
   ],
   "source": [
    "# You are given an integer array nums of length n \n",
    "# which represents a permutation of all the integers in the range [0, n - 1].\n",
    "\n",
    "# The number of global inversions is the number of the different pairs (i, j) where:\n",
    "# 0 <= i < j <= n-1\n",
    "# nums[i] > nums[j]\n",
    "\n",
    "# The number of local inversions is the number of indices i where:\n",
    "# 0 <= i < n - 1\n",
    "# nums[i] > nums[i + 1]\n",
    "\n",
    "# Return true if the number of global inversions is equal to the number of local inversions\n",
    "# finding (i,j)\n",
    "\n",
    "import itertools\n",
    "#arr = [1,2,0]\n",
    "arr = [1,0,2]\n",
    "\n",
    "new_arr = itertools.combinations(arr,2)\n",
    "new_l = list(new_arr) \n",
    "\n",
    "# finding global inversions\n",
    "glo = []\n",
    "for i in range(len(new_l)):\n",
    "    if(new_l[i][0]>new_l[i][1]):\n",
    "        glo.append(new_l[i])\n",
    "        \n",
    "# finding local inversions\n",
    "loc = []\n",
    "for i in range(0,len(arr)-1):\n",
    "    if(arr[i]>arr[i+1]):\n",
    "        loc.append(i)\n",
    "if(len(glo) == len(loc)):\n",
    "    print(\"same no of local and global inversions\")\n",
    "else:\n",
    "    print(\"different no of local and global inversions\")\n",
    "\n",
    "print(glo,loc)"
   ]
  },
  {
   "cell_type": "code",
   "execution_count": null,
   "metadata": {},
   "outputs": [],
   "source": []
  },
  {
   "cell_type": "code",
   "execution_count": null,
   "metadata": {},
   "outputs": [],
   "source": []
  }
 ],
 "metadata": {
  "kernelspec": {
   "display_name": "Python 3",
   "language": "python",
   "name": "python3"
  },
  "language_info": {
   "codemirror_mode": {
    "name": "ipython",
    "version": 3
   },
   "file_extension": ".py",
   "mimetype": "text/x-python",
   "name": "python",
   "nbconvert_exporter": "python",
   "pygments_lexer": "ipython3",
   "version": "3.8.3"
  }
 },
 "nbformat": 4,
 "nbformat_minor": 4
}

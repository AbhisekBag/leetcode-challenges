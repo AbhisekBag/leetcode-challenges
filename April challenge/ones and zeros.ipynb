{
 "cells": [
  {
   "cell_type": "code",
   "execution_count": 60,
   "metadata": {},
   "outputs": [
    {
     "name": "stdout",
     "output_type": "stream",
     "text": [
      "('10010',)\n",
      "('10', '001')\n",
      "the largest subset is: 2 [1, 2]\n",
      "time taken 0.0010802745819091797\n"
     ]
    }
   ],
   "source": [
    "import itertools\n",
    "import time\n",
    "t1 = time.time()\n",
    "\n",
    "strs = [\"0000111\",\"10010\",\"0100111\",\"000000111\",\"10\",\"001\"]\n",
    "#strs = [\"10\",\"0001\",\"111001\",\"1\",\"0\"]\n",
    "m = 3\n",
    "n = 2\n",
    "\n",
    "S0,S1,newlist = [],[],[]\n",
    "for element in strs:\n",
    "    s0,s1 = 0,0\n",
    "    for letter in element:\n",
    "        if(letter == '0'):\n",
    "            s0 += 1\n",
    "        else:\n",
    "            s1 += 1\n",
    "    if((s0,s1)<=(m,n)):\n",
    "        S0.append(s0)\n",
    "        S1.append(s1)\n",
    "        newlist.append(element)\n",
    "        \n",
    "length = []        \n",
    "for i in range(1,len(S0)+1):\n",
    "    a0 = itertools.combinations(S0,i)\n",
    "    l0 = list(a0)\n",
    "    a1 = itertools.combinations(S1,i)\n",
    "    l1 = list(a1)\n",
    "    nl1 = itertools.combinations(newlist,i)\n",
    "    newl = list(nl1)\n",
    "    for j in range(len(l0)):\n",
    "        if(sum(l0[j])==m and sum(l1[j])==n):\n",
    "            length.append(len(newl[j]))\n",
    "            print(newl[j])\n",
    "            \n",
    "print(\"the largest subset is:\",max(length),length)       \n",
    "    \n",
    "t2 = time.time()\n",
    "print(\"time taken\",t2-t1)"
   ]
  },
  {
   "cell_type": "code",
   "execution_count": null,
   "metadata": {},
   "outputs": [],
   "source": []
  },
  {
   "cell_type": "code",
   "execution_count": null,
   "metadata": {},
   "outputs": [],
   "source": []
  },
  {
   "cell_type": "code",
   "execution_count": null,
   "metadata": {},
   "outputs": [],
   "source": []
  },
  {
   "cell_type": "code",
   "execution_count": null,
   "metadata": {},
   "outputs": [],
   "source": []
  },
  {
   "cell_type": "code",
   "execution_count": null,
   "metadata": {},
   "outputs": [],
   "source": []
  },
  {
   "cell_type": "code",
   "execution_count": null,
   "metadata": {},
   "outputs": [],
   "source": []
  }
 ],
 "metadata": {
  "kernelspec": {
   "display_name": "Python 3",
   "language": "python",
   "name": "python3"
  },
  "language_info": {
   "codemirror_mode": {
    "name": "ipython",
    "version": 3
   },
   "file_extension": ".py",
   "mimetype": "text/x-python",
   "name": "python",
   "nbconvert_exporter": "python",
   "pygments_lexer": "ipython3",
   "version": "3.8.3"
  }
 },
 "nbformat": 4,
 "nbformat_minor": 4
}

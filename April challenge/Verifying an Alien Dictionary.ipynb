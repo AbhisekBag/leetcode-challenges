{
 "cells": [
  {
   "cell_type": "code",
   "execution_count": null,
   "metadata": {},
   "outputs": [],
   "source": [
    "# In an alien language, surprisingly they also use english lowercase letters, \n",
    "# but possibly in a different order. The order of the alphabet is some permutation of lowercase letters.\n",
    "# Given a sequence of words written in the alien language, and the order of the alphabet,\n",
    "# return true if and only if the given words are sorted lexicographicaly in this alien language."
   ]
  },
  {
   "cell_type": "code",
   "execution_count": 134,
   "metadata": {},
   "outputs": [
    {
     "name": "stdout",
     "output_type": "stream",
     "text": [
      "alien words are not sorted\n"
     ]
    }
   ],
   "source": [
    "words = [\"hello\",\"leetcode\"]; order = \"hlabcdefgijkmnopqrstuvwxyz\";\n",
    "\n",
    "# for making the lengths of the order and the each words equal append '.'\n",
    "for l in range(len(words)):\n",
    "    if len(order) > len(words[l]):\n",
    "        n = len(order)-len(words[l])\n",
    "        for i in range(n):\n",
    "            words[l]+='.'\n",
    "    else:\n",
    "        n = -len(order)+len(words[l])\n",
    "        for i in range(n):\n",
    "            words[l]+='.'      \n",
    "\n",
    "# storing the positions of letters in dictionary\n",
    "a,b,c = {},{},{}\n",
    "for i,j,k in zip(order,words[0],words[1]):\n",
    "    a[i] = order.index(i)\n",
    "    b[j] = words[0].index(j)\n",
    "    c[k] = words[1].index(k)\n",
    "\n",
    "    \n",
    "# checking the sorting part of the alien dictionary\n",
    "def w(x,y):\n",
    "    for i,j in zip(x,y):\n",
    "        if i == '.' or j == '.':\n",
    "            break\n",
    "        b[i]=a[i]\n",
    "        c[j]=a[j]\n",
    "        if b[i] <= c[j]:\n",
    "            continue\n",
    "        else:\n",
    "            return print('alien words are not sorted')\n",
    "    return print('alien words are sorted')\n",
    "\n",
    "w(words[0],words[1])"
   ]
  },
  {
   "cell_type": "code",
   "execution_count": null,
   "metadata": {},
   "outputs": [],
   "source": []
  },
  {
   "cell_type": "code",
   "execution_count": null,
   "metadata": {},
   "outputs": [],
   "source": []
  },
  {
   "cell_type": "code",
   "execution_count": null,
   "metadata": {},
   "outputs": [],
   "source": []
  }
 ],
 "metadata": {
  "kernelspec": {
   "display_name": "Python 3",
   "language": "python",
   "name": "python3"
  },
  "language_info": {
   "codemirror_mode": {
    "name": "ipython",
    "version": 3
   },
   "file_extension": ".py",
   "mimetype": "text/x-python",
   "name": "python",
   "nbconvert_exporter": "python",
   "pygments_lexer": "ipython3",
   "version": "3.8.3"
  }
 },
 "nbformat": 4,
 "nbformat_minor": 4
}

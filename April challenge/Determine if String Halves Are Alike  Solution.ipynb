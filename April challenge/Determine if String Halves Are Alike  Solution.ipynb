{
 "cells": [
  {
   "cell_type": "code",
   "execution_count": 6,
   "metadata": {},
   "outputs": [
    {
     "name": "stdout",
     "output_type": "stream",
     "text": [
      "AbCd\n",
      "EfGh\n",
      "two strings are alike\n"
     ]
    }
   ],
   "source": [
    "# You are given a string s of even length. Split this string into two halves of equal lengths,\n",
    "# and let a be the first half and b be the second half.\n",
    "# Two strings are alike if they have the same number of vowels ('a', 'e', 'i', 'o', 'u', 'A', 'E', 'I', 'O', 'U'). \n",
    "# Notice that s contains uppercase and lowercase letters.\n",
    "# Return true if a and b are alike. Otherwise, return false.\n",
    "\n",
    "\n",
    "\n",
    "# given even string\n",
    "st = \"AbCdEfGh\"\n",
    "\n",
    "# split the string in equal parts\n",
    "st1 = st[0:int(len(st)/2)]\n",
    "print(st1)\n",
    "st2 = st[int(len(st)/2):len(st)]\n",
    "print(st2)\n",
    "\n",
    "\n",
    "# for the first half st1 finding the total number of vowels\n",
    "s1 = 0\n",
    "for i in range(len(st1)):\n",
    "    if (st1[i] == 'a' or st1[i] == 'e' or st1[i] ==  'i' or st1[i] == 'o' or st1[i] == 'u' \n",
    "        or st1[i] == 'A' or st1[i] == 'E' or st1[i] == 'I' or st1[i] == 'O' or st1[i] == 'U'):\n",
    "        s1 += 1\n",
    "\n",
    "\n",
    "# for the second half st2 finding the total number of vowels\n",
    "s2 = 0\n",
    "for i in range(len(st2)):\n",
    "    if (st2[i] == 'a' or st2[i] == 'e' or st2[i] ==  'i' or st2[i] == 'o' or st2[i] == 'u' \n",
    "        or st2[i] == 'A' or st2[i] == 'E' or st2[i] == 'I' or st2[i] == 'O' or st2[i] == 'U'):\n",
    "        s2 += 1\n",
    "        \n",
    "        \n",
    "# checking if no of vowels are equal in both the strings\n",
    "if(s1==s2):\n",
    "    print(\"two strings are alike\")\n",
    "else:\n",
    "    print(\"two strings are different\")\n",
    "    \n",
    "\n"
   ]
  },
  {
   "cell_type": "code",
   "execution_count": null,
   "metadata": {},
   "outputs": [],
   "source": []
  }
 ],
 "metadata": {
  "kernelspec": {
   "display_name": "Python 3",
   "language": "python",
   "name": "python3"
  },
  "language_info": {
   "codemirror_mode": {
    "name": "ipython",
    "version": 3
   },
   "file_extension": ".py",
   "mimetype": "text/x-python",
   "name": "python",
   "nbconvert_exporter": "python",
   "pygments_lexer": "ipython3",
   "version": "3.8.3"
  }
 },
 "nbformat": 4,
 "nbformat_minor": 4
}

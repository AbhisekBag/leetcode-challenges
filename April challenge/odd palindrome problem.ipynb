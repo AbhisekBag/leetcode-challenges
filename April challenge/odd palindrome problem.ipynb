{
 "cells": [
  {
   "cell_type": "code",
   "execution_count": null,
   "metadata": {},
   "outputs": [],
   "source": []
  },
  {
   "cell_type": "code",
   "execution_count": 39,
   "metadata": {},
   "outputs": [
    {
     "name": "stdout",
     "output_type": "stream",
     "text": [
      "it is palindrome\n",
      "Time:  0.0005541979999179603\n"
     ]
    }
   ],
   "source": [
    "import timeit\n",
    "start = timeit.default_timer()\n",
    "#for odd list\n",
    "a = [1,2,3,4,5,6,5,4,3,2,1]\n",
    "#a = [1,3,5,3,1]\n",
    "#determine the length\n",
    "l = len(a)\n",
    "\n",
    "m=[]\n",
    "for i in range(1,int((l-1)/2+1)):\n",
    "    if(a[int((l-1)/2)-i]==a[int((l-1)/2)+i]):\n",
    "        m.append(i)\n",
    "    else:\n",
    "        print(\"not palindrom\")\n",
    "        break\n",
    "#to print in case palindrome is true\n",
    "if(len(m)==int((l-1)/2)):\n",
    "    print(\"it is palindrome\")\n",
    "    \n",
    "stop = timeit.default_timer()\n",
    "print('Time: ', stop - start)"
   ]
  },
  {
   "cell_type": "code",
   "execution_count": null,
   "metadata": {},
   "outputs": [],
   "source": []
  }
 ],
 "metadata": {
  "kernelspec": {
   "display_name": "Python 3",
   "language": "python",
   "name": "python3"
  },
  "language_info": {
   "codemirror_mode": {
    "name": "ipython",
    "version": 3
   },
   "file_extension": ".py",
   "mimetype": "text/x-python",
   "name": "python",
   "nbconvert_exporter": "python",
   "pygments_lexer": "ipython3",
   "version": "3.8.3"
  }
 },
 "nbformat": 4,
 "nbformat_minor": 4
}

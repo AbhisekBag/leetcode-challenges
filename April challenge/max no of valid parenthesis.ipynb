{
 "cells": [
  {
   "cell_type": "code",
   "execution_count": null,
   "metadata": {},
   "outputs": [],
   "source": [
    "#par = \"())()(((()())))(()())(\"\n",
    "par = \"()(()\"\n",
    "\n",
    "a = []\n",
    "for j in range(len(par)):\n",
    "    if(len(par)>1):\n",
    "        for i in range(len(par)):\n",
    "            if(i<=len(par)-2):\n",
    "                #print(len(par)-2,i)\n",
    "                if(par[i]=='(' and par[i+1]==')'):\n",
    "                    a.append(i)\n",
    "    par = par.replace('()','')\n",
    "    index = par.find(\"()\")\n",
    "    if(index == -1):\n",
    "        print(par)\n",
    "        break\n",
    "\n",
    "print(\"The number of valid parentheses substring is:\", 2*len(a))        "
   ]
  }
 ],
 "metadata": {
  "kernelspec": {
   "display_name": "Python 3",
   "language": "python",
   "name": "python3"
  },
  "language_info": {
   "codemirror_mode": {
    "name": "ipython",
    "version": 3
   },
   "file_extension": ".py",
   "mimetype": "text/x-python",
   "name": "python",
   "nbconvert_exporter": "python",
   "pygments_lexer": "ipython3",
   "version": "3.8.3"
  }
 },
 "nbformat": 4,
 "nbformat_minor": 4
}
